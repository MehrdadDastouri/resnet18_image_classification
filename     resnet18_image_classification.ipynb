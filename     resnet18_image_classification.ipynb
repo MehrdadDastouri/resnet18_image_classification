{
  "nbformat": 4,
  "nbformat_minor": 0,
  "metadata": {
    "colab": {
      "provenance": [],
      "gpuType": "T4",
      "authorship_tag": "ABX9TyO3pgt+zP4fHy2/JiYRjDzM",
      "include_colab_link": true
    },
    "kernelspec": {
      "name": "python3",
      "display_name": "Python 3"
    },
    "language_info": {
      "name": "python"
    },
    "accelerator": "GPU"
  },
  "cells": [
    {
      "cell_type": "markdown",
      "metadata": {
        "id": "view-in-github",
        "colab_type": "text"
      },
      "source": [
        "<a href=\"https://colab.research.google.com/github/MehrdadDastouri/resnet18_image_classification/blob/main/%20%20%20%20resnet18_image_classification.ipynb\" target=\"_parent\"><img src=\"https://colab.research.google.com/assets/colab-badge.svg\" alt=\"Open In Colab\"/></a>"
      ]
    },
    {
      "cell_type": "code",
      "execution_count": 4,
      "metadata": {
        "colab": {
          "base_uri": "https://localhost:8080/"
        },
        "id": "Mxu6f9hrbwj4",
        "outputId": "8a3c2dbf-ecdf-4bd5-b7b5-687329adf222"
      },
      "outputs": [
        {
          "output_type": "stream",
          "name": "stdout",
          "text": [
            "Using device: cuda\n",
            "Predicted Class: website\n"
          ]
        }
      ],
      "source": [
        "# Import necessary libraries\n",
        "import torch\n",
        "import torch.nn as nn\n",
        "import torchvision.models as models\n",
        "import torchvision.transforms as transforms\n",
        "from PIL import Image, ImageDraw\n",
        "\n",
        "# Device configuration\n",
        "device = torch.device(\"cuda\" if torch.cuda.is_available() else \"cpu\")\n",
        "print(f\"Using device: {device}\")\n",
        "\n",
        "# Load a pre-trained ResNet model\n",
        "model = models.resnet18(pretrained=True)\n",
        "model = model.to(device)\n",
        "model.eval()\n",
        "\n",
        "# Create a simple image using PIL\n",
        "image_size = (224, 224)  # Image dimensions\n",
        "image = Image.new(\"RGB\", image_size, color=\"white\")  # Create a white image\n",
        "draw = ImageDraw.Draw(image)\n",
        "draw.rectangle([50, 50, 150, 150], fill=\"blue\")  # Draw a blue square\n",
        "image.save(\"generated_sample_image.jpg\")  # Save the generated image (optional)\n",
        "\n",
        "# Image preprocessing\n",
        "transform = transforms.Compose([\n",
        "    transforms.Resize((224, 224)),  # Resize the image to 224x224\n",
        "    transforms.ToTensor(),\n",
        "    transforms.Normalize(mean=[0.485, 0.456, 0.406], std=[0.229, 0.224, 0.225])  # Normalize as per ImageNet\n",
        "])\n",
        "\n",
        "# Convert generated image to tensor\n",
        "image_tensor = transform(image).unsqueeze(0).to(device)\n",
        "\n",
        "# Perform inference\n",
        "with torch.no_grad():\n",
        "    outputs = model(image_tensor)\n",
        "    _, predicted_class = outputs.max(1)\n",
        "\n",
        "# Load ImageNet class labels\n",
        "import requests\n",
        "\n",
        "LABELS_URL = \"https://raw.githubusercontent.com/anishathalye/imagenet-simple-labels/master/imagenet-simple-labels.json\"\n",
        "labels = requests.get(LABELS_URL).json()\n",
        "\n",
        "# Print the prediction\n",
        "predicted_label = labels[predicted_class.item()]\n",
        "print(f\"Predicted Class: {predicted_label}\")"
      ]
    }
  ]
}